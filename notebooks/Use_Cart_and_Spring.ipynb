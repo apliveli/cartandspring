{
 "cells": [
  {
   "cell_type": "code",
   "execution_count": null,
   "metadata": {},
   "outputs": [],
   "source": [
    "#importing required libraires\n",
    "import numpy as np\n",
    "import matplotlib.pyplot as plt\n",
    "#ode solver\n",
    "import scipy.integrate as si\n",
    "from sys import path\n",
    "import os\n",
    "#changing directory to import modules\n",
    "path = os.getcwd()\n",
    "new_path=path[:-9]\n",
    "new_path=new_path + \"cart_and_spring\"\n",
    "os.chdir(new_path)\n",
    "#import modules\n",
    "import lin_cart_and_spring as project1\n",
    "import nonlin_cart_and_spring as project2"
   ]
  },
  {
   "cell_type": "code",
   "execution_count": null,
   "metadata": {},
   "outputs": [],
   "source": [
    "#runs linear setup\n",
    "system_1 = project1.lin_cart_and_spring(k=10,L=2,m=1,x_0=0,y_0=0,b=0.8)\n",
    "\n",
    "system_1.add_cart(m=1.5,x_0=4,y_0=0,b=0.5)\n",
    "system_1.add_spring(k=10,L=2)\n",
    "system_1.add_spring(k=5,L=5)\n",
    "\n",
    "soln = system_1.plot(5)"
   ]
  },
  {
   "cell_type": "code",
   "execution_count": null,
   "metadata": {},
   "outputs": [],
   "source": [
    "#runs nonlinear setup\n",
    "system_1 = project2.nonlin_cart_and_spring(k=10,L=2,m=1,x_0=0,y_0=0,b=0.8)\n",
    "\n",
    "system_1.add_cart(m=1.5,x_0=4,y_0=0,b=0.5)\n",
    "system_1.add_spring(k=10,L=2)\n",
    "system_1.add_spring(k=5,L=5)\n",
    "\n",
    "soln = system_1.plot(5)"
   ]
  },
  {
   "cell_type": "code",
   "execution_count": null,
   "metadata": {},
   "outputs": [],
   "source": []
  }
 ],
 "metadata": {
  "kernelspec": {
   "display_name": "Python 3",
   "language": "python",
   "name": "python3"
  },
  "language_info": {
   "codemirror_mode": {
    "name": "ipython",
    "version": 3
   },
   "file_extension": ".py",
   "mimetype": "text/x-python",
   "name": "python",
   "nbconvert_exporter": "python",
   "pygments_lexer": "ipython3",
   "version": "3.7.4"
  }
 },
 "nbformat": 4,
 "nbformat_minor": 2
}
