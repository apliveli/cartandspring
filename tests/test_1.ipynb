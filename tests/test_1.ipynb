{
 "cells": [
  {
   "cell_type": "code",
   "execution_count": 81,
   "metadata": {},
   "outputs": [],
   "source": [
    "#importing required libraires\n",
    "import numpy as np\n",
    "import matplotlib.pyplot as plt\n",
    "#ode solver\n",
    "import scipy.integrate as si\n",
    "\n",
    "#test\n",
    "import unittest\n",
    "\n",
    "from sys import path\n",
    "import os\n",
    "#changing directory to import modules\n",
    "path = os.getcwd()\n",
    "new_path=path[:-5]\n",
    "new_path=new_path + \"cart_and_spring\"\n",
    "os.chdir(new_path)\n",
    "\n",
    "#import modules\n",
    "import lin_cart_and_spring as project1\n",
    "import nonlin_cart_and_spring as project2\n",
    "\n",
    "#creating linear system to be tested\n",
    "system_1 = project1.lin_cart_and_spring(k=10,L=2,m=1,x_0=0,y_0=0,b=0.8)\n",
    "system_1.add_cart(m=1.5,x_0=4,y_0=0,b=0.5)\n",
    "system_1.add_spring(k=8,L=1)\n",
    "\n",
    "#creating nonlinear system to be tested\n",
    "system_1 = project2.nonlin_cart_and_spring(k=10,L=2,m=1,x_0=0,y_0=0,b=0.8)\n",
    "system_1.add_cart(m=1.5,x_0=4,y_0=0,b=0.5)\n",
    "system_1.add_spring(k=8,L=1)"
   ]
  },
  {
   "cell_type": "code",
   "execution_count": 84,
   "metadata": {},
   "outputs": [],
   "source": [
    "class MyTestClass(unittest.TestCase):\n",
    "    def test_lin(self):\n",
    "        self.assertEqual(system_1.k[0],10)\n",
    "        self.assertEqual(system_1.L[0],2)\n",
    "        self.assertEqual(system_1.m[0],1)\n",
    "        self.assertEqual(system_1.x_0[0],0)\n",
    "        self.assertEqual(system_1.y_0[0],0)\n",
    "        self.assertEqual(system_1.b[0],0.8)\n",
    "\n",
    "    def test_linaddcart(self):\n",
    "        self.assertEqual(system_1.m[1],1.5)\n",
    "        self.assertEqual(system_1.x_0[1],4)\n",
    "        self.assertEqual(system_1.y_0[1],0)\n",
    "        self.assertEqual(system_1.b[1],0.5)\n",
    "        \n",
    "    def test_linaddspring(self):\n",
    "        self.assertEqual(system_1.k[1],8)\n",
    "        self.assertEqual(system_1.L[1],1)\n",
    "        \n",
    "    def test_nonlin(self):\n",
    "        self.assertEqual(system_1.k[0],10)\n",
    "        self.assertEqual(system_1.L[0],2)\n",
    "        self.assertEqual(system_1.m[0],1)\n",
    "        self.assertEqual(system_1.x_0[0],0)\n",
    "        self.assertEqual(system_1.y_0[0],0)\n",
    "        self.assertEqual(system_1.b[0],0.8)\n",
    "\n",
    "    def test_nonlinaddcart(self):\n",
    "        self.assertEqual(system_1.m[1],1.5)\n",
    "        self.assertEqual(system_1.x_0[1],4)\n",
    "        self.assertEqual(system_1.y_0[1],0)\n",
    "        self.assertEqual(system_1.b[1],0.5)\n",
    "        \n",
    "    def test_nonlinaddspring(self):\n",
    "        self.assertEqual(system_1.k[1],8)\n",
    "        self.assertEqual(system_1.L[1],1)"
   ]
  },
  {
   "cell_type": "code",
   "execution_count": 85,
   "metadata": {},
   "outputs": [
    {
     "name": "stderr",
     "output_type": "stream",
     "text": [
      "......\n",
      "----------------------------------------------------------------------\n",
      "Ran 6 tests in 0.012s\n",
      "\n",
      "OK\n"
     ]
    },
    {
     "data": {
      "text/plain": [
       "<unittest.main.TestProgram at 0x1b4fdb5ff88>"
      ]
     },
     "execution_count": 85,
     "metadata": {},
     "output_type": "execute_result"
    }
   ],
   "source": [
    "unittest.main(argv=[\"first-arg-is-ignored\"], exit=False)"
   ]
  },
  {
   "cell_type": "code",
   "execution_count": null,
   "metadata": {},
   "outputs": [],
   "source": []
  }
 ],
 "metadata": {
  "kernelspec": {
   "display_name": "Python 3",
   "language": "python",
   "name": "python3"
  },
  "language_info": {
   "codemirror_mode": {
    "name": "ipython",
    "version": 3
   },
   "file_extension": ".py",
   "mimetype": "text/x-python",
   "name": "python",
   "nbconvert_exporter": "python",
   "pygments_lexer": "ipython3",
   "version": "3.7.4"
  }
 },
 "nbformat": 4,
 "nbformat_minor": 2
}
